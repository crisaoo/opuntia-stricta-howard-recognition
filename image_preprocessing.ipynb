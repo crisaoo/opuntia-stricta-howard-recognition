{
 "cells": [
  {
   "cell_type": "markdown",
   "metadata": {},
   "source": [
    "### Importanto Bibliotecas"
   ]
  },
  {
   "cell_type": "code",
   "execution_count": null,
   "metadata": {},
   "outputs": [],
   "source": [
    "import cv2 \n",
    "import os\n",
    "from PIL import Image\n",
    "import numpy as np"
   ]
  },
  {
   "cell_type": "markdown",
   "metadata": {},
   "source": [
    "### Inicializando variáveis"
   ]
  },
  {
   "cell_type": "code",
   "execution_count": null,
   "metadata": {},
   "outputs": [],
   "source": [
    "root_dir = './data/no_label'\n",
    "source_dir = os.path.join(root_dir, 'collected_images')\n",
    "resized_dir = os.path.join(root_dir, 'resized_data')    \n",
    "segmented_dir = os.path.join(root_dir, 'segmented_dir')   \n",
    "\n",
    "width = []\n",
    "height = []"
   ]
  },
  {
   "cell_type": "markdown",
   "metadata": {},
   "source": [
    "### Calculando média das dimensões"
   ]
  },
  {
   "cell_type": "code",
   "execution_count": null,
   "metadata": {},
   "outputs": [],
   "source": [
    "for file in os.listdir(source_dir):\n",
    "    img_path = os.path.join(source_dir, file)\n",
    "\n",
    "    image = Image.open(img_path)\n",
    "    w, h = image.size\n",
    "\n",
    "    width.append(w)\n",
    "    height.append(h)\n",
    "\n",
    "width_mean = int(sum(width) / len(width))\n",
    "height_mean = int(sum(height) / len(height))\n",
    "\n",
    "print(f\"Média de largura: {int(width_mean)}\")\n",
    "print(f\"Média de altura: {int(height_mean)}\")\n",
    "\n"
   ]
  },
  {
   "cell_type": "markdown",
   "metadata": {},
   "source": [
    "### Redimensionando o tamanho das imagens"
   ]
  },
  {
   "cell_type": "code",
   "execution_count": null,
   "metadata": {},
   "outputs": [],
   "source": [
    "dim = (width_mean, height_mean)\n",
    "dim\n",
    "if not os.path.exists(resized_dir):\n",
    "    os.makedirs(resized_dir)\n",
    "\n",
    "for filename in os.listdir(source_dir):\n",
    "    if filename.endswith('.jpg'):\n",
    "        img = cv2.imread(os.path.join(source_dir, filename))\n",
    "        img_resized = cv2.resize(img, dim, cv2.INTER_AREA)\n",
    "        cv2.imwrite(os.path.join(resized_dir, filename), img_resized)\n",
    "    else:\n",
    "        ..."
   ]
  },
  {
   "cell_type": "markdown",
   "metadata": {},
   "source": [
    "### Segmentação das Imagens"
   ]
  },
  {
   "cell_type": "code",
   "execution_count": null,
   "metadata": {},
   "outputs": [],
   "source": [
    "if not os.path.exists(segmented_dir):\n",
    "    os.makedirs(segmented_dir)\n",
    "        \n",
    "for filename in os.listdir(resized_dir):\n",
    "    img = cv2.imread(os.path.join(resized_dir, filename))\n",
    "\n",
    "    img_hsv = cv2.cvtColor(img, cv2.COLOR_BGR2HSV)\n",
    "\n",
    "    lower = np.array([35, 10, 10])  # Verde mais escuro\n",
    "    upper = np.array([80, 200, 200])# Verde mais claro\n",
    "\n",
    "    mask = cv2.inRange(img_hsv, lower, upper)\n",
    "\n",
    "    imageSegmented = cv2.bitwise_and(img, img, mask=mask)\n",
    "\n",
    "    cv2.imwrite(os.path.join(segmented_dir, filename), imageSegmented)   "
   ]
  }
 ],
 "metadata": {
  "kernelspec": {
   "display_name": "Python 3",
   "language": "python",
   "name": "python3"
  },
  "language_info": {
   "codemirror_mode": {
    "name": "ipython",
    "version": 3
   },
   "file_extension": ".py",
   "mimetype": "text/x-python",
   "name": "python",
   "nbconvert_exporter": "python",
   "pygments_lexer": "ipython3",
   "version": "3.8.10"
  }
 },
 "nbformat": 4,
 "nbformat_minor": 2
}
